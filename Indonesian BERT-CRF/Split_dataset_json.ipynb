{
  "nbformat": 4,
  "nbformat_minor": 0,
  "metadata": {
    "colab": {
      "name": "Split dataset json.ipynb",
      "provenance": [],
      "collapsed_sections": []
    },
    "kernelspec": {
      "name": "python3",
      "display_name": "Python 3"
    },
    "language_info": {
      "name": "python"
    }
  },
  "cells": [
    {
      "cell_type": "code",
      "execution_count": null,
      "metadata": {
        "id": "emJv-Krlf2DH",
        "colab": {
          "base_uri": "https://localhost:8080/"
        },
        "outputId": "ba01dfc5-fc18-4bd6-bb04-9198c65b40dc"
      },
      "outputs": [
        {
          "output_type": "stream",
          "name": "stdout",
          "text": [
            "<class 'list'>\n"
          ]
        }
      ],
      "source": [
        "import pandas as pd\n",
        "import random\n",
        "import json\n",
        "\n",
        "with open('singgalang.json', encoding=\"utf8\") as f:\n",
        "    l = json.load(f)\n",
        "#     print(type(l))\n",
        "# random.shuffle(l)"
      ]
    },
    {
      "cell_type": "code",
      "source": [
        "# print(type(l))"
      ],
      "metadata": {
        "colab": {
          "base_uri": "https://localhost:8080/"
        },
        "id": "-ciN0yoMtxEf",
        "outputId": "3cd03aa3-fdde-42ba-8054-81b627264845"
      },
      "execution_count": null,
      "outputs": [
        {
          "output_type": "stream",
          "name": "stdout",
          "text": [
            "<class 'list'>\n"
          ]
        }
      ]
    },
    {
      "cell_type": "code",
      "source": [
        "train = l[:len(l) * 70 // 100:]\n",
        "dev = l[(len(l) * 70 // 100):(len(l) * 85 // 100)]\n",
        "test = l[len(l) * 85 // 100:]"
      ],
      "metadata": {
        "id": "iMqYVoVu3VzO"
      },
      "execution_count": null,
      "outputs": []
    },
    {
      "cell_type": "code",
      "source": [
        "print(len(l),len(train),len(dev),len(test), len(train)+len(dev)+len(test))"
      ],
      "metadata": {
        "colab": {
          "base_uri": "https://localhost:8080/"
        },
        "id": "CzHdEjgJ6aA7",
        "outputId": "d2afeab7-64ec-4938-b29f-10fa0668216b"
      },
      "execution_count": null,
      "outputs": [
        {
          "output_type": "stream",
          "name": "stdout",
          "text": [
            "48977 34283 7347 7347 48977\n"
          ]
        }
      ]
    },
    {
      "cell_type": "code",
      "source": [
        "jsonString = json.dumps(train)\n",
        "jsonFile = open(\"singgalang-train.json\", \"w\")\n",
        "jsonFile.write(jsonString)\n",
        "jsonFile.close()"
      ],
      "metadata": {
        "id": "ESg1ycq67Y3R"
      },
      "execution_count": null,
      "outputs": []
    },
    {
      "cell_type": "code",
      "source": [
        "jsonString = json.dumps(dev)\n",
        "jsonFile = open(\"singgalang-dev.json\", \"w\")\n",
        "jsonFile.write(jsonString)\n",
        "jsonFile.close()"
      ],
      "metadata": {
        "id": "aMZGLvOJAo6Y"
      },
      "execution_count": null,
      "outputs": []
    },
    {
      "cell_type": "code",
      "source": [
        "jsonString = json.dumps(test)\n",
        "jsonFile = open(\"singgalang-test.json\", \"w\")\n",
        "jsonFile.write(jsonString)\n",
        "jsonFile.close()"
      ],
      "metadata": {
        "id": "mz8PHoPlBgAU"
      },
      "execution_count": null,
      "outputs": []
    }
  ]
}