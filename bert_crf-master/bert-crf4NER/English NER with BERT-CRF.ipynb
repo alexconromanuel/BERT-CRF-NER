#clone the project from the github
!git clone https://github.com/Dhanachandra/bert-crf4NER.git
!pip install -r /content/bert-crf4NER/requirements.txt
pip install <path to .whl file>
%cd /content/bert-crf4NER/bert-crf4NER
pip install -q torch==1.7.0+cpu -f https://download.pytorch.org/whl/torch_stable.html

!python bert_crf.py --mode train
!python bert_crf.py --mode test
