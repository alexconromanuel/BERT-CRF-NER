{
 "cells": [
  {
   "cell_type": "code",
   "execution_count": 1,
   "metadata": {
    "colab": {
     "base_uri": "https://localhost:8080/",
     "height": 119
    },
    "colab_type": "code",
    "id": "aXAjWkK29Gdk",
    "outputId": "db78eae2-b97c-40e0-b869-c21c6c2f300c"
   },
   "outputs": [
    {
     "name": "stdout",
     "output_type": "stream",
     "text": [
      "Cloning into 'bert-crf4NER'...\n",
      "remote: Enumerating objects: 72, done.\u001b[K\n",
      "remote: Counting objects: 100% (72/72), done.\u001b[K\n",
      "remote: Compressing objects: 100% (39/39), done.\u001b[K\n",
      "remote: Total 72 (delta 32), reused 71 (delta 31), pack-reused 0\u001b[K\n",
      "Unpacking objects: 100% (72/72), done.\n"
     ]
    }
   ],
   "source": [
    "#clone the project from the github\n",
    "!git clone https://github.com/Dhanachandra/bert-crf4NER.git"
   ]
  },
  {
   "cell_type": "code",
   "execution_count": 18,
   "metadata": {
    "colab": {
     "base_uri": "https://localhost:8080/",
     "height": 1000
    },
    "colab_type": "code",
    "id": "S1gwEcG3-HLG",
    "outputId": "05b4296b-90e6-4ed0-af45-3bba9c2db56d"
   },
   "outputs": [
    {
     "name": "stdout",
     "output_type": "stream",
     "text": [
      "Requirement already satisfied: transformers==2.3.0 in c:\\users\\user\\anaconda3\\lib\\site-packages (from -r C:/users/user/Downloads/bert_crf-master/requirements.txt (line 1)) (2.3.0)\n",
      "Collecting pytorch==1.0.2\n",
      "  Using cached pytorch-1.0.2.tar.gz (689 bytes)\n",
      "  Preparing metadata (setup.py): started\n",
      "  Preparing metadata (setup.py): finished with status 'done'\n",
      "Requirement already satisfied: pytorch-crf==0.7.2 in c:\\users\\user\\anaconda3\\lib\\site-packages (from -r C:/users/user/Downloads/bert_crf-master/requirements.txt (line 3)) (0.7.2)\n",
      "Requirement already satisfied: nltk==3.4.5 in c:\\users\\user\\anaconda3\\lib\\site-packages (from -r C:/users/user/Downloads/bert_crf-master/requirements.txt (line 4)) (3.4.5)\n",
      "Requirement already satisfied: spacy==2.2.3 in c:\\users\\user\\anaconda3\\lib\\site-packages (from -r C:/users/user/Downloads/bert_crf-master/requirements.txt (line 5)) (2.2.3)\n",
      "Requirement already satisfied: torch==1.4.0 in c:\\users\\user\\anaconda3\\lib\\site-packages (from -r C:/users/user/Downloads/bert_crf-master/requirements.txt (line 6)) (1.4.0+cpu)\n",
      "Collecting torchvision==0.12.0\n",
      "  Using cached torchvision-0.12.0-cp38-cp38-win_amd64.whl (1.0 MB)\n",
      "Requirement already satisfied: pillow==7.0.0 in c:\\users\\user\\anaconda3\\lib\\site-packages (from -r C:/users/user/Downloads/bert_crf-master/requirements.txt (line 8)) (7.0.0)\n",
      "Requirement already satisfied: seqeval==0.0.12 in c:\\users\\user\\anaconda3\\lib\\site-packages (from -r C:/users/user/Downloads/bert_crf-master/requirements.txt (line 9)) (0.0.12)\n",
      "Requirement already satisfied: gdown>=3.10.1 in c:\\users\\user\\anaconda3\\lib\\site-packages (from -r C:/users/user/Downloads/bert_crf-master/requirements.txt (line 10)) (4.4.0)\n"
     ]
    },
    {
     "name": "stderr",
     "output_type": "stream",
     "text": [
      "WARNING: Ignoring invalid distribution -umpy (c:\\users\\user\\anaconda3\\lib\\site-packages)\n",
      "WARNING: Ignoring invalid distribution -umpy (c:\\users\\user\\anaconda3\\lib\\site-packages)\n",
      "ERROR: Cannot install -r C:/users/user/Downloads/bert_crf-master/requirements.txt (line 7) and torch==1.4.0 because these package versions have conflicting dependencies.\n",
      "ERROR: ResolutionImpossible: for help visit https://pip.pypa.io/en/latest/topics/dependency-resolution/#dealing-with-dependency-conflicts\n",
      "WARNING: Ignoring invalid distribution -umpy (c:\\users\\user\\anaconda3\\lib\\site-packages)\n",
      "WARNING: Ignoring invalid distribution -umpy (c:\\users\\user\\anaconda3\\lib\\site-packages)\n"
     ]
    },
    {
     "name": "stdout",
     "output_type": "stream",
     "text": [
      "Requirement already satisfied: tensorflow in c:\\users\\user\\anaconda3\\lib\\site-packages (from -r C:/users/user/Downloads/bert_crf-master/requirements.txt (line 11)) (2.8.0)\n",
      "Requirement already satisfied: sentencepiece in c:\\users\\user\\anaconda3\\lib\\site-packages (from transformers==2.3.0->-r C:/users/user/Downloads/bert_crf-master/requirements.txt (line 1)) (0.1.96)\n",
      "Requirement already satisfied: boto3 in c:\\users\\user\\anaconda3\\lib\\site-packages (from transformers==2.3.0->-r C:/users/user/Downloads/bert_crf-master/requirements.txt (line 1)) (1.21.27)\n",
      "Requirement already satisfied: sacremoses in c:\\users\\user\\anaconda3\\lib\\site-packages (from transformers==2.3.0->-r C:/users/user/Downloads/bert_crf-master/requirements.txt (line 1)) (0.0.49)\n",
      "Requirement already satisfied: regex!=2019.12.17 in c:\\users\\user\\anaconda3\\lib\\site-packages (from transformers==2.3.0->-r C:/users/user/Downloads/bert_crf-master/requirements.txt (line 1)) (2020.6.8)\n",
      "Requirement already satisfied: requests in c:\\users\\user\\anaconda3\\lib\\site-packages (from transformers==2.3.0->-r C:/users/user/Downloads/bert_crf-master/requirements.txt (line 1)) (2.24.0)\n",
      "Requirement already satisfied: tqdm in c:\\users\\user\\anaconda3\\lib\\site-packages (from transformers==2.3.0->-r C:/users/user/Downloads/bert_crf-master/requirements.txt (line 1)) (4.62.2)\n",
      "Requirement already satisfied: numpy in c:\\users\\user\\anaconda3\\lib\\site-packages (from transformers==2.3.0->-r C:/users/user/Downloads/bert_crf-master/requirements.txt (line 1)) (1.22.3)\n",
      "Requirement already satisfied: six in c:\\users\\user\\anaconda3\\lib\\site-packages (from nltk==3.4.5->-r C:/users/user/Downloads/bert_crf-master/requirements.txt (line 4)) (1.15.0)\n",
      "Requirement already satisfied: preshed<3.1.0,>=3.0.2 in c:\\users\\user\\anaconda3\\lib\\site-packages (from spacy==2.2.3->-r C:/users/user/Downloads/bert_crf-master/requirements.txt (line 5)) (3.0.6)\n",
      "Requirement already satisfied: thinc<7.4.0,>=7.3.0 in c:\\users\\user\\anaconda3\\lib\\site-packages (from spacy==2.2.3->-r C:/users/user/Downloads/bert_crf-master/requirements.txt (line 5)) (7.3.1)\n",
      "Requirement already satisfied: murmurhash<1.1.0,>=0.28.0 in c:\\users\\user\\anaconda3\\lib\\site-packages (from spacy==2.2.3->-r C:/users/user/Downloads/bert_crf-master/requirements.txt (line 5)) (1.0.6)\n",
      "Requirement already satisfied: blis<0.5.0,>=0.4.0 in c:\\users\\user\\anaconda3\\lib\\site-packages (from spacy==2.2.3->-r C:/users/user/Downloads/bert_crf-master/requirements.txt (line 5)) (0.4.1)\n",
      "Requirement already satisfied: catalogue<1.1.0,>=0.0.7 in c:\\users\\user\\anaconda3\\lib\\site-packages (from spacy==2.2.3->-r C:/users/user/Downloads/bert_crf-master/requirements.txt (line 5)) (1.0.0)\n",
      "Requirement already satisfied: srsly<1.1.0,>=0.1.0 in c:\\users\\user\\anaconda3\\lib\\site-packages (from spacy==2.2.3->-r C:/users/user/Downloads/bert_crf-master/requirements.txt (line 5)) (1.0.5)\n",
      "Requirement already satisfied: wasabi<1.1.0,>=0.4.0 in c:\\users\\user\\anaconda3\\lib\\site-packages (from spacy==2.2.3->-r C:/users/user/Downloads/bert_crf-master/requirements.txt (line 5)) (0.9.0)\n",
      "Requirement already satisfied: setuptools in c:\\users\\user\\anaconda3\\lib\\site-packages (from spacy==2.2.3->-r C:/users/user/Downloads/bert_crf-master/requirements.txt (line 5)) (49.2.0.post20200714)\n",
      "Requirement already satisfied: plac<1.2.0,>=0.9.6 in c:\\users\\user\\anaconda3\\lib\\site-packages (from spacy==2.2.3->-r C:/users/user/Downloads/bert_crf-master/requirements.txt (line 5)) (1.1.3)\n",
      "Requirement already satisfied: cymem<2.1.0,>=2.0.2 in c:\\users\\user\\anaconda3\\lib\\site-packages (from spacy==2.2.3->-r C:/users/user/Downloads/bert_crf-master/requirements.txt (line 5)) (2.0.6)\n",
      "Requirement already satisfied: typing-extensions in c:\\users\\user\\anaconda3\\lib\\site-packages (from torchvision==0.12.0->-r C:/users/user/Downloads/bert_crf-master/requirements.txt (line 7)) (3.10.0.2)\n",
      "INFO: pip is looking at multiple versions of torch to determine which version is compatible with other requirements. This could take a while.\n",
      "INFO: pip is looking at multiple versions of spacy to determine which version is compatible with other requirements. This could take a while.\n",
      "Collecting spacy==2.2.3\n",
      "  Using cached spacy-2.2.3-cp38-cp38-win_amd64.whl (9.8 MB)\n",
      "INFO: pip is looking at multiple versions of nltk to determine which version is compatible with other requirements. This could take a while.\n",
      "Collecting nltk==3.4.5\n",
      "  Using cached nltk-3.4.5-py3-none-any.whl\n",
      "INFO: pip is looking at multiple versions of pytorch-crf to determine which version is compatible with other requirements. This could take a while.\n",
      "Collecting pytorch-crf==0.7.2\n",
      "  Using cached pytorch_crf-0.7.2-py3-none-any.whl (9.5 kB)\n",
      "INFO: pip is looking at multiple versions of pytorch to determine which version is compatible with other requirements. This could take a while.\n",
      "INFO: pip is looking at multiple versions of transformers to determine which version is compatible with other requirements. This could take a while.\n",
      "Collecting transformers==2.3.0\n",
      "  Using cached transformers-2.3.0-py3-none-any.whl (447 kB)\n",
      "\n",
      "The conflict is caused by:\n",
      "    The user requested torch==1.4.0\n",
      "    torchvision 0.12.0 depends on torch==1.11.0\n",
      "\n",
      "To fix this you could try to:\n",
      "1. loosen the range of package versions you've specified\n",
      "2. remove package versions to allow pip attempt to solve the dependency conflict\n",
      "\n"
     ]
    }
   ],
   "source": [
    "!pip install -r C:/users/user/Downloads/bert_crf-master/requirements.txt"
   ]
  },
  {
   "cell_type": "code",
   "execution_count": 19,
   "metadata": {},
   "outputs": [
    {
     "name": "stdout",
     "output_type": "stream",
     "text": [
      "Processing c:\\users\\user\\downloads\\bert_crf-master\\torch-1.4.0+cpu-cp38-cp38-win_amd64.whl\n",
      "torch is already installed with the same version as the provided wheel. Use --force-reinstall to force an installation of the wheel.\n"
     ]
    },
    {
     "name": "stderr",
     "output_type": "stream",
     "text": [
      "WARNING: Ignoring invalid distribution -umpy (c:\\users\\user\\anaconda3\\lib\\site-packages)\n",
      "WARNING: Ignoring invalid distribution -umpy (c:\\users\\user\\anaconda3\\lib\\site-packages)\n",
      "WARNING: Ignoring invalid distribution -umpy (c:\\users\\user\\anaconda3\\lib\\site-packages)\n",
      "WARNING: Ignoring invalid distribution -umpy (c:\\users\\user\\anaconda3\\lib\\site-packages)\n",
      "WARNING: Ignoring invalid distribution -umpy (c:\\users\\user\\anaconda3\\lib\\site-packages)\n"
     ]
    }
   ],
   "source": [
    "!pip install c:/users/user/downloads/bert_crf-master/torch-1.4.0+cpu-cp38-cp38-win_amd64.whl"
   ]
  },
  {
   "cell_type": "code",
   "execution_count": 20,
   "metadata": {
    "colab": {
     "base_uri": "https://localhost:8080/",
     "height": 34
    },
    "colab_type": "code",
    "id": "RNAsTNX9-Al-",
    "outputId": "590fcf23-b793-4d28-c9b8-93561913f958"
   },
   "outputs": [
    {
     "name": "stdout",
     "output_type": "stream",
     "text": [
      "C:\\users\\user\\Downloads\\bert_crf-master\\bert-crf4NER\n"
     ]
    }
   ],
   "source": [
    "%cd C:/users/user/Downloads/bert_crf-master/bert-crf4NER"
   ]
  },
  {
   "cell_type": "code",
   "execution_count": 21,
   "metadata": {
    "colab": {
     "base_uri": "https://localhost:8080/",
     "height": 1000
    },
    "colab_type": "code",
    "id": "LFW7yKMgAss_",
    "outputId": "5897ce1e-1f88-4f85-f7db-a2d2ce1f8798"
   },
   "outputs": [
    {
     "name": "stderr",
     "output_type": "stream",
     "text": [
      "2022-03-26 16:00:23.614526: W tensorflow/stream_executor/platform/default/dso_loader.cc:64] Could not load dynamic library 'cudart64_110.dll'; dlerror: cudart64_110.dll not found\n",
      "2022-03-26 16:00:23.614572: I tensorflow/stream_executor/cuda/cudart_stub.cc:29] Ignore above cudart dlerror if you do not have a GPU set up on your machine.\n",
      "Traceback (most recent call last):\n",
      "  File \"bert_NER.py\", line 31, in <module>\n",
      "    tokenizer = spacy.load(\"en_core_web_sm\", disable=[\"tagger\", \"parser\", \"ner\"])\n",
      "  File \"C:\\Users\\User\\anaconda3\\lib\\site-packages\\spacy\\__init__.py\", line 30, in load\n",
      "    return util.load_model(name, **overrides)\n",
      "  File \"C:\\Users\\User\\anaconda3\\lib\\site-packages\\spacy\\util.py\", line 169, in load_model\n",
      "    raise IOError(Errors.E050.format(name=name))\n",
      "OSError: [E050] Can't find model 'en_core_web_sm'. It doesn't seem to be a shortcut link, a Python package or a valid path to a data directory.\n"
     ]
    }
   ],
   "source": [
    "!python bert_NER.py --mode train"
   ]
  },
  {
   "cell_type": "code",
   "execution_count": 32,
   "metadata": {
    "colab": {
     "base_uri": "https://localhost:8080/",
     "height": 190
    },
    "colab_type": "code",
    "id": "RhHlRqfc0SP_",
    "outputId": "19c25521-e69e-4906-d03c-19ec8290a0be"
   },
   "outputs": [
    {
     "name": "stdout",
     "output_type": "stream",
     "text": [
      "test len:  217\n",
      "processed 55042 tokens with 5942 phrases; found: 5958 phrases; correct: 5467.\n",
      "accuracy:  93.08%; (non-O)\n",
      "accuracy:  98.63%; precision:  91.76%; recall:  92.01%; FB1:  91.88%\n",
      "              LOC: precision:  93.52%; recall:  94.23%; FB1:  93.87%  1851\n",
      "             MISC: precision:  87.19%; recall:  84.16%; FB1:  85.65%  890\n",
      "              ORG: precision:  87.04%; recall:  88.14%; FB1:  87.59%  1358\n",
      "              PER: precision:  95.64%; recall:  96.53%; FB1:  96.08%  1859\n",
      "\n"
     ]
    }
   ],
   "source": [
    "!python bert_NER.py --mode test"
   ]
  }
 ],
 "metadata": {
  "accelerator": "GPU",
  "colab": {
   "collapsed_sections": [],
   "name": "bert_4_ner_training.ipynb",
   "provenance": []
  },
  "kernelspec": {
   "display_name": "Python 3",
   "language": "python",
   "name": "python3"
  },
  "language_info": {
   "codemirror_mode": {
    "name": "ipython",
    "version": 3
   },
   "file_extension": ".py",
   "mimetype": "text/x-python",
   "name": "python",
   "nbconvert_exporter": "python",
   "pygments_lexer": "ipython3",
   "version": "3.8.3"
  }
 },
 "nbformat": 4,
 "nbformat_minor": 1
}
