{
 "cells": [
  {
   "cell_type": "code",
   "execution_count": 1,
   "metadata": {},
   "outputs": [],
   "source": [
    "import pandas as pd\n",
    "import random\n",
    "import json\n",
    "import csv\n",
    "\n",
    "with open('singgalang_ambigu.json', encoding=\"utf8\") as f:\n",
    "    listt = json.load(f)"
   ]
  },
  {
   "cell_type": "code",
   "execution_count": 2,
   "metadata": {},
   "outputs": [],
   "source": [
    "list_tmp = []\n",
    "for i in listt: \n",
    "    list_tmp.append(i.get(\"doc_id\"))"
   ]
  },
  {
   "cell_type": "code",
   "execution_count": 3,
   "metadata": {},
   "outputs": [],
   "source": [
    "list_tmp = [i.replace(\"Singgalang#\",\"\") for i in list_tmp]"
   ]
  },
  {
   "cell_type": "code",
   "execution_count": 4,
   "metadata": {},
   "outputs": [],
   "source": [
    "list_sentence = []\n",
    "nomor_sentence = 1\n",
    "\n",
    "# open file in read mode\n",
    "with open('SINGGALANG2.tsv', encoding='UTF-8') as read_obj:\n",
    "    # pass the file object to reader() to get the reader object\n",
    "    csv_reader = csv.reader(read_obj, delimiter='\\t', quotechar=None) #https://www.petanikode.com/python-csv/ \n",
    "# https://docs.python.org/id/3.9/library/csv.html\n",
    "# Menginstruksikan reader untuk tidak melakukan pemrosesan khusus terhadap karakter kutipan\n",
    "    # Iterate over each row in the csv using reader object\n",
    "    for row in csv_reader:\n",
    "        # row variable is a list that represents a row in csv\n",
    "        if len(row) == 0:\n",
    "            nomor_sentence += 1 \n",
    "        else:\n",
    "            tmp_row= row\n",
    "            tmp_row.append(nomor_sentence)\n",
    "            list_sentence.append(tmp_row)\n",
    "\n",
    "dataset = pd.DataFrame(list_sentence, columns=['token', 'ne', 'sentence'])"
   ]
  },
  {
   "cell_type": "code",
   "execution_count": 5,
   "metadata": {},
   "outputs": [],
   "source": [
    "df_test = dataset[dataset['sentence'].isin(list_tmp)]\n",
    "df_test = df_test.reset_index(drop=True)"
   ]
  },
  {
   "cell_type": "code",
   "execution_count": 6,
   "metadata": {},
   "outputs": [],
   "source": [
    "df_train = dataset[~dataset['sentence'].isin(list_tmp)]\n",
    "df_train = df_train.reset_index(drop=True)"
   ]
  },
  {
   "cell_type": "code",
   "execution_count": 7,
   "metadata": {},
   "outputs": [],
   "source": [
    "def append_nan_rows(df_in):\n",
    "    '''\n",
    "    Menambahkan baris NaN di antara baris token terakhir\n",
    "    suatu kalimat dan baris tokem awal kalimat selanjutnya.\n",
    "    '''\n",
    "    list_tmp = []\n",
    "    for i in df_in.itertuples():\n",
    "        if (i.Index > 0):\n",
    "            if (df_in.iloc[i.Index].sentence != \\\n",
    "                df_in.iloc[i.Index-1].sentence):\n",
    "                list_tmp.append([float(\"NaN\"),\n",
    "                                 float(\"NaN\"),\n",
    "                                 float(\"NaN\")])\n",
    "                list_tmp.append([i.token, i.ne, i.sentence])\n",
    "            else:\n",
    "                list_tmp.append([i.token, i.ne, i.sentence])\n",
    "        else:\n",
    "            list_tmp.append([i.token, i.ne, i.sentence])\n",
    "    return df_in"
   ]
  },
  {
   "cell_type": "code",
   "execution_count": 8,
   "metadata": {},
   "outputs": [],
   "source": [
    "def save_dataframe(df_in, str_fname):\n",
    "    '''\n",
    "    Menyimpan DataFrame dalam sebuah berkas TSV.\n",
    "    '''\n",
    "    try:\n",
    "        df_in = df_in.drop(\"sentence\", axis=1)\n",
    "        df_in.to_csv(str_fname, sep=\"\\t\",\n",
    "                      header=None,\n",
    "                      index=False)\n",
    "        print(\"DataFrame berhasil disimpan dalam\", str_fname)\n",
    "    except Exception as e:\n",
    "        print(e)"
   ]
  },
  {
   "cell_type": "code",
   "execution_count": 9,
   "metadata": {},
   "outputs": [
    {
     "name": "stdout",
     "output_type": "stream",
     "text": [
      "DataFrame berhasil disimpan dalam singgalang_train.tsv\n",
      "DataFrame berhasil disimpan dalam singgalang_test.tsv\n"
     ]
    }
   ],
   "source": [
    "df_train_new = append_nan_rows(df_train)\n",
    "df_test_new = append_nan_rows(df_test)\n",
    "\n",
    "save_dataframe(df_train_new, \"singgalang_train.tsv\")\n",
    "save_dataframe(df_test_new, \"singgalang_test.tsv\")"
   ]
  },
  {
   "cell_type": "markdown",
   "metadata": {},
   "source": [
    "---"
   ]
  }
 ],
 "metadata": {
  "kernelspec": {
   "display_name": "Python 3",
   "language": "python",
   "name": "python3"
  },
  "language_info": {
   "codemirror_mode": {
    "name": "ipython",
    "version": 3
   },
   "file_extension": ".py",
   "mimetype": "text/x-python",
   "name": "python",
   "nbconvert_exporter": "python",
   "pygments_lexer": "ipython3",
   "version": "3.8.3"
  }
 },
 "nbformat": 4,
 "nbformat_minor": 4
}
