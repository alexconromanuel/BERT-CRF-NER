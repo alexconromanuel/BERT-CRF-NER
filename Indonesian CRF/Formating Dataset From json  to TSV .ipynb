{
 "cells": [
  {
   "cell_type": "code",
   "execution_count": 1,
   "metadata": {},
   "outputs": [],
   "source": [
    "import pandas as pd\n",
    "import random\n",
    "import json\n",
    "import csv\n",
    "\n",
    "with open('singgalang-test_ambigu.json', encoding=\"utf8\") as f:\n",
    "    listt = json.load(f)"
   ]
  },
  {
   "cell_type": "code",
   "execution_count": 2,
   "metadata": {},
   "outputs": [],
   "source": [
    "list_tmp = []\n",
    "for i in listt: \n",
    "    list_tmp.append(i.get(\"doc_id\"))"
   ]
  },
  {
   "cell_type": "code",
   "execution_count": 3,
   "metadata": {},
   "outputs": [],
   "source": [
    "list_tmp = [i.replace(\"Singgalang#\",\"\") for i in list_tmp]"
   ]
  },
  {
   "cell_type": "code",
   "execution_count": 4,
   "metadata": {},
   "outputs": [],
   "source": [
    "list_sentence = []\n",
    "nomor_sentence = 1\n",
    "\n",
    "# open file in read mode\n",
    "with open('SINGGALANG2.tsv', encoding='UTF-8') as read_obj:\n",
    "    # pass the file object to reader() to get the reader object\n",
    "    csv_reader = csv.reader(read_obj, delimiter='\\t', quotechar=None) #https://www.petanikode.com/python-csv/ \n",
    "# https://docs.python.org/id/3.9/library/csv.html\n",
    "# Menginstruksikan reader untuk tidak melakukan pemrosesan khusus terhadap karakter kutipan\n",
    "    # Iterate over each row in the csv using reader object\n",
    "    for row in csv_reader:\n",
    "        # row variable is a list that represents a row in csv\n",
    "        if len(row) == 0:\n",
    "            nomor_sentence += 1 \n",
    "        else:\n",
    "            tmp_row= row\n",
    "            tmp_row.append(nomor_sentence)\n",
    "            list_sentence.append(tmp_row)\n",
    "\n",
    "dataset = pd.DataFrame(list_sentence, columns=['token', 'ne', 'sentence'])"
   ]
  },
  {
   "cell_type": "code",
   "execution_count": 5,
   "metadata": {},
   "outputs": [],
   "source": [
    "df_phrase = dataset[dataset['sentence'].isin(list_tmp)]\n"
   ]
  },
  {
   "cell_type": "code",
   "execution_count": 17,
   "metadata": {},
   "outputs": [
    {
     "data": {
      "text/html": [
       "<div>\n",
       "<style scoped>\n",
       "    .dataframe tbody tr th:only-of-type {\n",
       "        vertical-align: middle;\n",
       "    }\n",
       "\n",
       "    .dataframe tbody tr th {\n",
       "        vertical-align: top;\n",
       "    }\n",
       "\n",
       "    .dataframe thead th {\n",
       "        text-align: right;\n",
       "    }\n",
       "</style>\n",
       "<table border=\"1\" class=\"dataframe\">\n",
       "  <thead>\n",
       "    <tr style=\"text-align: right;\">\n",
       "      <th></th>\n",
       "      <th>token</th>\n",
       "      <th>ne</th>\n",
       "      <th>sentence</th>\n",
       "    </tr>\n",
       "  </thead>\n",
       "  <tbody>\n",
       "    <tr>\n",
       "      <th>0</th>\n",
       "      <td>Ia</td>\n",
       "      <td>O</td>\n",
       "      <td>1</td>\n",
       "    </tr>\n",
       "    <tr>\n",
       "      <th>1</th>\n",
       "      <td>menjabat</td>\n",
       "      <td>O</td>\n",
       "      <td>1</td>\n",
       "    </tr>\n",
       "    <tr>\n",
       "      <th>2</th>\n",
       "      <td>sebagai</td>\n",
       "      <td>O</td>\n",
       "      <td>1</td>\n",
       "    </tr>\n",
       "    <tr>\n",
       "      <th>3</th>\n",
       "      <td>Presiden</td>\n",
       "      <td>O</td>\n",
       "      <td>1</td>\n",
       "    </tr>\n",
       "    <tr>\n",
       "      <th>4</th>\n",
       "      <td>ketiga</td>\n",
       "      <td>O</td>\n",
       "      <td>1</td>\n",
       "    </tr>\n",
       "    <tr>\n",
       "      <th>...</th>\n",
       "      <td>...</td>\n",
       "      <td>...</td>\n",
       "      <td>...</td>\n",
       "    </tr>\n",
       "    <tr>\n",
       "      <th>1128239</th>\n",
       "      <td>untuk</td>\n",
       "      <td>O</td>\n",
       "      <td>37221</td>\n",
       "    </tr>\n",
       "    <tr>\n",
       "      <th>1128240</th>\n",
       "      <td>mendapatkan</td>\n",
       "      <td>O</td>\n",
       "      <td>37221</td>\n",
       "    </tr>\n",
       "    <tr>\n",
       "      <th>1128241</th>\n",
       "      <td>peran</td>\n",
       "      <td>O</td>\n",
       "      <td>37221</td>\n",
       "    </tr>\n",
       "    <tr>\n",
       "      <th>1128242</th>\n",
       "      <td>utama</td>\n",
       "      <td>O</td>\n",
       "      <td>37221</td>\n",
       "    </tr>\n",
       "    <tr>\n",
       "      <th>1128243</th>\n",
       "      <td>.</td>\n",
       "      <td>O</td>\n",
       "      <td>37221</td>\n",
       "    </tr>\n",
       "  </tbody>\n",
       "</table>\n",
       "<p>890 rows × 3 columns</p>\n",
       "</div>"
      ],
      "text/plain": [
       "               token ne  sentence\n",
       "0                 Ia  O         1\n",
       "1           menjabat  O         1\n",
       "2            sebagai  O         1\n",
       "3           Presiden  O         1\n",
       "4             ketiga  O         1\n",
       "...              ... ..       ...\n",
       "1128239        untuk  O     37221\n",
       "1128240  mendapatkan  O     37221\n",
       "1128241        peran  O     37221\n",
       "1128242        utama  O     37221\n",
       "1128243            .  O     37221\n",
       "\n",
       "[890 rows x 3 columns]"
      ]
     },
     "execution_count": 17,
     "metadata": {},
     "output_type": "execute_result"
    }
   ],
   "source": [
    "df_ambigu "
   ]
  },
  {
   "cell_type": "code",
   "execution_count": 6,
   "metadata": {},
   "outputs": [],
   "source": [
    "def append_nan_rows(df_in):\n",
    "    '''\n",
    "    Menambahkan baris NaN di antara baris token terakhir\n",
    "    suatu kalimat dan baris tokem awal kalimat selanjutnya.\n",
    "    '''\n",
    "    list_tmp = []\n",
    "    df_in = df_in.reset_index(drop=True)\n",
    "    for i in df_in.itertuples():\n",
    "        if (i.Index > 0):\n",
    "            if (df_in.iloc[i.Index].sentence != \\\n",
    "                df_in.iloc[i.Index-1].sentence):\n",
    "                list_tmp.append([float(\"NaN\"),\n",
    "                                 float(\"NaN\"),\n",
    "                                 float(\"NaN\")])\n",
    "                list_tmp.append([i.token, i.ne, i.sentence])\n",
    "            else:\n",
    "                list_tmp.append([i.token, i.ne, i.sentence])\n",
    "        else:\n",
    "            list_tmp.append([i.token, i.ne, i.sentence])\n",
    "    return df_in"
   ]
  },
  {
   "cell_type": "code",
   "execution_count": 7,
   "metadata": {},
   "outputs": [],
   "source": [
    "def save_dataframe(df_in, str_fname):\n",
    "    '''\n",
    "    Menyimpan DataFrame dalam sebuah berkas TSV.\n",
    "    '''\n",
    "    try:\n",
    "        df_in = df_in.drop(\"sentence\", axis=1)\n",
    "        df_in.to_csv(str_fname, sep=\"\\t\",\n",
    "                      header=None,\n",
    "                      index=False)\n",
    "        print(\"DataFrame berhasil disimpan dalam\", str_fname)\n",
    "    except Exception as e:\n",
    "        print(e)"
   ]
  },
  {
   "cell_type": "code",
   "execution_count": 8,
   "metadata": {},
   "outputs": [
    {
     "name": "stdout",
     "output_type": "stream",
     "text": [
      "DataFrame berhasil disimpan dalam ambigusinggalang.tsv\n"
     ]
    }
   ],
   "source": [
    "df_phrase_new = append_nan_rows(df_phrase)\n",
    "\n",
    "save_dataframe(df_phrase_new, \"ambigusinggalang.tsv\")\n"
   ]
  },
  {
   "cell_type": "markdown",
   "metadata": {},
   "source": [
    "---"
   ]
  }
 ],
 "metadata": {
  "kernelspec": {
   "display_name": "Python 3",
   "language": "python",
   "name": "python3"
  },
  "language_info": {
   "codemirror_mode": {
    "name": "ipython",
    "version": 3
   },
   "file_extension": ".py",
   "mimetype": "text/x-python",
   "name": "python",
   "nbconvert_exporter": "python",
   "pygments_lexer": "ipython3",
   "version": "3.8.3"
  }
 },
 "nbformat": 4,
 "nbformat_minor": 4
}
