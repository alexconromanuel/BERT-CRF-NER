{
  "nbformat": 4,
  "nbformat_minor": 0,
  "metadata": {
    "colab": {
      "name": "split.ipynb",
      "provenance": []
    },
    "kernelspec": {
      "name": "python3",
      "display_name": "Python 3"
    },
    "language_info": {
      "name": "python"
    }
  },
  "cells": [
    {
      "cell_type": "code",
      "source": [
        "    # def get_train_examples(self):\n",
        "    #     return self._create_examples(self.data[:len(self.data) * 4 // 5 ])\n",
        "    \n",
        "    # def get_test_examples(self):\n",
        "    #     return self._create_examples(self.data[len(self.data) * 4 // 5:])"
      ],
      "metadata": {
        "id": "utZdD0uN4W_H"
      },
      "execution_count": null,
      "outputs": []
    },
    {
      "cell_type": "code",
      "execution_count": 1,
      "metadata": {
        "id": "emJv-Krlf2DH"
      },
      "outputs": [],
      "source": [
        "import pandas as pd\n",
        "import random\n",
        "import json\n",
        "\n",
        "with open('singgalang.json', encoding=\"utf8\") as f:\n",
        "    l = json.load(f)"
      ]
    },
    {
      "cell_type": "code",
      "source": [
        "train = l[:len(l) * 70 // 100:]\n",
        "dev = l[(len(l) * 70 // 100):(len(l) * 85 // 100)]\n",
        "test = l[len(l) * 85 // 100:]"
      ],
      "metadata": {
        "id": "iMqYVoVu3VzO"
      },
      "execution_count": 2,
      "outputs": []
    },
    {
      "cell_type": "code",
      "source": [
        "print(len(l),len(train),len(dev),len(test), len(train)+len(dev)+len(test))"
      ],
      "metadata": {
        "colab": {
          "base_uri": "https://localhost:8080/"
        },
        "id": "CzHdEjgJ6aA7",
        "outputId": "5cc98b23-6126-46c8-822e-04ae38a59393"
      },
      "execution_count": 3,
      "outputs": [
        {
          "output_type": "stream",
          "name": "stdout",
          "text": [
            "48981 34286 7347 7348 48981\n"
          ]
        }
      ]
    },
    {
      "cell_type": "code",
      "source": [
        "jsonString = json.dumps(train)\n",
        "jsonFile = open(\"singgalang-train.json\", \"w\")\n",
        "jsonFile.write(jsonString)\n",
        "jsonFile.close()"
      ],
      "metadata": {
        "id": "ESg1ycq67Y3R"
      },
      "execution_count": 4,
      "outputs": []
    },
    {
      "cell_type": "code",
      "source": [
        "jsonString = json.dumps(dev)\n",
        "jsonFile = open(\"singgalang-dev.json\", \"w\")\n",
        "jsonFile.write(jsonString)\n",
        "jsonFile.close()"
      ],
      "metadata": {
        "id": "aMZGLvOJAo6Y"
      },
      "execution_count": 5,
      "outputs": []
    },
    {
      "cell_type": "code",
      "source": [
        "jsonString = json.dumps(test)\n",
        "jsonFile = open(\"singgalang-test.json\", \"w\")\n",
        "jsonFile.write(jsonString)\n",
        "jsonFile.close()"
      ],
      "metadata": {
        "id": "mz8PHoPlBgAU"
      },
      "execution_count": 6,
      "outputs": []
    }
  ]
}